{
 "cells": [
  {
   "cell_type": "markdown",
   "metadata": {},
   "source": [
    "## Text to Speech\n"
   ]
  },
  {
   "cell_type": "code",
   "execution_count": 3,
   "metadata": {},
   "outputs": [],
   "source": [
    "import pyttsx3\n",
    "\n",
    "myspeaker = pyttsx3.init()\n",
    "myspeaker.setProperty('rate', 120)  # Adjust as needed (e.g., 120 for moderate speed)\n",
    "text = \"Enter text to be spoken: \"\n",
    "myspeaker.say(text)\n",
    "myspeaker.runAndWait()\n"
   ]
  },
  {
   "cell_type": "markdown",
   "metadata": {},
   "source": [
    "## Speech to Text"
   ]
  },
  {
   "cell_type": "code",
   "execution_count": 5,
   "metadata": {},
   "outputs": [
    {
     "name": "stdout",
     "output_type": "stream",
     "text": [
      "Listening...\n",
      "You said: hello i am shubham how are you\n",
      "Exiting...\n"
     ]
    }
   ],
   "source": [
    "import speech_recognition as sr\n",
    "import pyttsx3\n",
    "\n",
    "# Initialize the recognizer\n",
    "r = sr.Recognizer()\n",
    "\n",
    "# Function to convert text to speech\n",
    "def SpeakText(command):\n",
    "    engine = pyttsx3.init()\n",
    "    engine.say(command)\n",
    "    engine.runAndWait()\n",
    "\n",
    "# Listen for user input\n",
    "while True:\n",
    "    try:\n",
    "        # Check for typed input to exit\n",
    "        user_input = input(\"Type 'E' to end or press C to continue: \").strip().lower()\n",
    "        if user_input == 'e':\n",
    "            print(\"Exiting...\")\n",
    "            SpeakText(\"Goodbye!\")\n",
    "            break\n",
    "\n",
    "        with sr.Microphone() as source:\n",
    "            r.adjust_for_ambient_noise(source, duration=0.2)\n",
    "            print(\"Listening...\")\n",
    "            audio = r.listen(source)\n",
    "            recognized_text = r.recognize_google(audio).lower()\n",
    "            print(\"You said:\", recognized_text)\n",
    "            \n",
    "            SpeakText(recognized_text)\n",
    "    except sr.RequestError as e:\n",
    "        print(f\"Could not request results: {e}\")\n",
    "    except sr.UnknownValueError:\n",
    "        print(\"Unknown error occurred\")\n"
   ]
  }
 ],
 "metadata": {
  "kernelspec": {
   "display_name": "Python 3",
   "language": "python",
   "name": "python3"
  },
  "language_info": {
   "codemirror_mode": {
    "name": "ipython",
    "version": 3
   },
   "file_extension": ".py",
   "mimetype": "text/x-python",
   "name": "python",
   "nbconvert_exporter": "python",
   "pygments_lexer": "ipython3",
   "version": "3.12.4"
  }
 },
 "nbformat": 4,
 "nbformat_minor": 2
}
